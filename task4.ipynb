{
 "cells": [
  {
   "cell_type": "code",
   "execution_count": 1,
   "metadata": {},
   "outputs": [
    {
     "name": "stderr",
     "output_type": "stream",
     "text": [
      "C:\\Users\\akshu\\AppData\\Local\\Continuum\\anaconda3\\lib\\site-packages\\tensorflow\\python\\framework\\dtypes.py:526: FutureWarning: Passing (type, 1) or '1type' as a synonym of type is deprecated; in a future version of numpy, it will be understood as (type, (1,)) / '(1,)type'.\n",
      "  _np_qint8 = np.dtype([(\"qint8\", np.int8, 1)])\n",
      "C:\\Users\\akshu\\AppData\\Local\\Continuum\\anaconda3\\lib\\site-packages\\tensorflow\\python\\framework\\dtypes.py:527: FutureWarning: Passing (type, 1) or '1type' as a synonym of type is deprecated; in a future version of numpy, it will be understood as (type, (1,)) / '(1,)type'.\n",
      "  _np_quint8 = np.dtype([(\"quint8\", np.uint8, 1)])\n",
      "C:\\Users\\akshu\\AppData\\Local\\Continuum\\anaconda3\\lib\\site-packages\\tensorflow\\python\\framework\\dtypes.py:528: FutureWarning: Passing (type, 1) or '1type' as a synonym of type is deprecated; in a future version of numpy, it will be understood as (type, (1,)) / '(1,)type'.\n",
      "  _np_qint16 = np.dtype([(\"qint16\", np.int16, 1)])\n",
      "C:\\Users\\akshu\\AppData\\Local\\Continuum\\anaconda3\\lib\\site-packages\\tensorflow\\python\\framework\\dtypes.py:529: FutureWarning: Passing (type, 1) or '1type' as a synonym of type is deprecated; in a future version of numpy, it will be understood as (type, (1,)) / '(1,)type'.\n",
      "  _np_quint16 = np.dtype([(\"quint16\", np.uint16, 1)])\n",
      "C:\\Users\\akshu\\AppData\\Local\\Continuum\\anaconda3\\lib\\site-packages\\tensorflow\\python\\framework\\dtypes.py:530: FutureWarning: Passing (type, 1) or '1type' as a synonym of type is deprecated; in a future version of numpy, it will be understood as (type, (1,)) / '(1,)type'.\n",
      "  _np_qint32 = np.dtype([(\"qint32\", np.int32, 1)])\n",
      "C:\\Users\\akshu\\AppData\\Local\\Continuum\\anaconda3\\lib\\site-packages\\tensorflow\\python\\framework\\dtypes.py:535: FutureWarning: Passing (type, 1) or '1type' as a synonym of type is deprecated; in a future version of numpy, it will be understood as (type, (1,)) / '(1,)type'.\n",
      "  np_resource = np.dtype([(\"resource\", np.ubyte, 1)])\n"
     ]
    }
   ],
   "source": [
    "import pandas as pd\n",
    "import numpy as np\n",
    "import matplotlib.pyplot as plt\n",
    "import seaborn as sns\n",
    "import tensorflow as tf\n",
    "from tensorflow.keras.models import Sequential\n",
    "from tensorflow.keras.layers import Conv2D, MaxPooling2D, Flatten, Dense, Dropout\n",
    "from sklearn.preprocessing import LabelBinarizer\n",
    "from sklearn.model_selection import train_test_split\n",
    "import os"
   ]
  },
  {
   "cell_type": "code",
   "execution_count": 5,
   "metadata": {},
   "outputs": [
    {
     "name": "stdout",
     "output_type": "stream",
     "text": [
      "Warning: Looks like you're using an outdated `kagglehub` version, please consider updating (latest version: 0.3.12)\n",
      "Path to dataset files: C:\\Users\\akshu\\.cache\\kagglehub\\datasets\\datamunge\\sign-language-mnist\\versions\\1\n"
     ]
    }
   ],
   "source": [
    "import kagglehub\n",
    "\n",
    "# Download latest version\n",
    "path = kagglehub.dataset_download(\"datamunge/sign-language-mnist\")\n",
    "\n",
    "print(\"Path to dataset files:\", path)"
   ]
  },
  {
   "cell_type": "code",
   "execution_count": 4,
   "metadata": {},
   "outputs": [
    {
     "name": "stdout",
     "output_type": "stream",
     "text": [
      "Warning: Looks like you're using an outdated `kagglehub` version, please consider updating (latest version: 0.3.12)\n",
      "Resuming download from 29360128 bytes (36273078 bytes left)...\n",
      "Resuming download from https://www.kaggle.com/api/v1/datasets/download/datamunge/sign-language-mnist?dataset_version_number=1 (29360128/65633206) bytes left.\n"
     ]
    },
    {
     "name": "stderr",
     "output_type": "stream",
     "text": [
      "100%|██████████████████████████████████████████████████████████████████████████████| 62.6M/62.6M [04:01<00:00, 150kB/s]"
     ]
    },
    {
     "name": "stdout",
     "output_type": "stream",
     "text": [
      "Extracting model files...\n"
     ]
    },
    {
     "name": "stderr",
     "output_type": "stream",
     "text": [
      "\n"
     ]
    }
   ],
   "source": [
    "dataset_path = kagglehub.dataset_download(\"datamunge/sign-language-mnist\")"
   ]
  },
  {
   "cell_type": "code",
   "execution_count": 6,
   "metadata": {},
   "outputs": [],
   "source": [
    "train_csv = os.path.join(dataset_path, \"sign_mnist_train.csv\")\n",
    "test_csv = os.path.join(dataset_path, \"sign_mnist_test.csv\")"
   ]
  },
  {
   "cell_type": "code",
   "execution_count": 7,
   "metadata": {},
   "outputs": [],
   "source": [
    "train_df = pd.read_csv(train_csv)\n",
    "test_df = pd.read_csv(test_csv)"
   ]
  },
  {
   "cell_type": "code",
   "execution_count": 8,
   "metadata": {},
   "outputs": [],
   "source": [
    "y_train = train_df['label']\n",
    "X_train = train_df.drop('label', axis=1)"
   ]
  },
  {
   "cell_type": "code",
   "execution_count": 9,
   "metadata": {},
   "outputs": [],
   "source": [
    "y_test = test_df['label']\n",
    "X_test = test_df.drop('label', axis=1)"
   ]
  },
  {
   "cell_type": "code",
   "execution_count": 10,
   "metadata": {},
   "outputs": [],
   "source": [
    "X_train = X_train / 255.0\n",
    "X_test = X_test / 255.0"
   ]
  },
  {
   "cell_type": "code",
   "execution_count": 11,
   "metadata": {},
   "outputs": [],
   "source": [
    "X_train = X_train.values.reshape(-1, 28, 28, 1)\n",
    "X_test = X_test.values.reshape(-1, 28, 28, 1)"
   ]
  },
  {
   "cell_type": "code",
   "execution_count": 12,
   "metadata": {},
   "outputs": [],
   "source": [
    "lb = LabelBinarizer()\n",
    "y_train = lb.fit_transform(y_train)\n",
    "y_test = lb.transform(y_test)"
   ]
  },
  {
   "cell_type": "code",
   "execution_count": 13,
   "metadata": {},
   "outputs": [
    {
     "name": "stdout",
     "output_type": "stream",
     "text": [
      "WARNING:tensorflow:From C:\\Users\\akshu\\AppData\\Local\\Continuum\\anaconda3\\lib\\site-packages\\tensorflow\\python\\ops\\resource_variable_ops.py:435: colocate_with (from tensorflow.python.framework.ops) is deprecated and will be removed in a future version.\n",
      "Instructions for updating:\n",
      "Colocations handled automatically by placer.\n",
      "WARNING:tensorflow:From C:\\Users\\akshu\\AppData\\Local\\Continuum\\anaconda3\\lib\\site-packages\\tensorflow\\python\\keras\\layers\\core.py:143: calling dropout (from tensorflow.python.ops.nn_ops) with keep_prob is deprecated and will be removed in a future version.\n",
      "Instructions for updating:\n",
      "Please use `rate` instead of `keep_prob`. Rate should be set to `rate = 1 - keep_prob`.\n"
     ]
    }
   ],
   "source": [
    "model = Sequential([\n",
    "    Conv2D(32, (3,3), activation='relu', input_shape=(28,28,1)),\n",
    "    MaxPooling2D(2,2),\n",
    "\n",
    "    Conv2D(64, (3,3), activation='relu'),\n",
    "    MaxPooling2D(2,2),\n",
    "\n",
    "    Flatten(),\n",
    "    Dense(128, activation='relu'),\n",
    "    Dropout(0.3),\n",
    "    Dense(24, activation='softmax')  # Corrected to 24 classes\n",
    "])"
   ]
  },
  {
   "cell_type": "code",
   "execution_count": 24,
   "metadata": {},
   "outputs": [
    {
     "name": "stdout",
     "output_type": "stream",
     "text": [
      "Train on 27455 samples, validate on 7172 samples\n",
      "Epoch 1/10\n",
      "27455/27455 [==============================] - 30s 1ms/sample - loss: 0.0099 - acc: 0.9968 - val_loss: 0.3823 - val_acc: 0.9395\n",
      "Epoch 2/10\n",
      "27455/27455 [==============================] - 29s 1ms/sample - loss: 0.0086 - acc: 0.9971 - val_loss: 0.4587 - val_acc: 0.9357\n",
      "Epoch 3/10\n",
      "27455/27455 [==============================] - 31s 1ms/sample - loss: 0.0106 - acc: 0.9969 - val_loss: 0.3136 - val_acc: 0.9419\n",
      "Epoch 4/10\n",
      "27455/27455 [==============================] - 29s 1ms/sample - loss: 0.0076 - acc: 0.9973 - val_loss: 0.3620 - val_acc: 0.9452\n",
      "Epoch 5/10\n",
      "27455/27455 [==============================] - 29s 1ms/sample - loss: 0.0062 - acc: 0.9977 - val_loss: 0.3885 - val_acc: 0.9466\n",
      "Epoch 6/10\n",
      "27455/27455 [==============================] - 29s 1ms/sample - loss: 0.0087 - acc: 0.9969 - val_loss: 0.4000 - val_acc: 0.9463\n",
      "Epoch 7/10\n",
      "27455/27455 [==============================] - 30s 1ms/sample - loss: 0.0074 - acc: 0.9975 - val_loss: 0.3131 - val_acc: 0.9494\n",
      "Epoch 8/10\n",
      "27455/27455 [==============================] - 31s 1ms/sample - loss: 0.0090 - acc: 0.9967 - val_loss: 0.4403 - val_acc: 0.9321\n",
      "Epoch 9/10\n",
      "27455/27455 [==============================] - 31s 1ms/sample - loss: 0.0057 - acc: 0.9982 - val_loss: 0.3641 - val_acc: 0.9400\n",
      "Epoch 10/10\n",
      "27455/27455 [==============================] - 31s 1ms/sample - loss: 0.0070 - acc: 0.9975 - val_loss: 0.4421 - val_acc: 0.9430\n"
     ]
    }
   ],
   "source": [
    "model.compile(optimizer='adam', loss='categorical_crossentropy', metrics=['acc'])\n",
    "     \n",
    "\n",
    "history = model.fit(X_train, y_train, epochs=10, validation_data=(X_test, y_test))"
   ]
  },
  {
   "cell_type": "code",
   "execution_count": 25,
   "metadata": {},
   "outputs": [
    {
     "name": "stdout",
     "output_type": "stream",
     "text": [
      "Train on 27455 samples, validate on 7172 samples\n",
      "Epoch 1/10\n",
      "27455/27455 [==============================] - 32s 1ms/sample - loss: 0.0073 - acc: 0.9976 - val_loss: 0.3401 - val_acc: 0.9502\n",
      "Epoch 2/10\n",
      "27455/27455 [==============================] - 31s 1ms/sample - loss: 0.0061 - acc: 0.9979 - val_loss: 0.3977 - val_acc: 0.9469\n",
      "Epoch 3/10\n",
      "27455/27455 [==============================] - 31s 1ms/sample - loss: 0.0066 - acc: 0.9979 - val_loss: 0.5074 - val_acc: 0.9363\n",
      "Epoch 4/10\n",
      "27455/27455 [==============================] - 31s 1ms/sample - loss: 0.0106 - acc: 0.9968 - val_loss: 0.3683 - val_acc: 0.9451\n",
      "Epoch 5/10\n",
      "27455/27455 [==============================] - 31s 1ms/sample - loss: 0.0049 - acc: 0.9987 - val_loss: 0.4214 - val_acc: 0.9399\n",
      "Epoch 6/10\n",
      "27455/27455 [==============================] - 31s 1ms/sample - loss: 0.0050 - acc: 0.9986 - val_loss: 0.3193 - val_acc: 0.9559\n",
      "Epoch 7/10\n",
      "27455/27455 [==============================] - 31s 1ms/sample - loss: 0.0058 - acc: 0.9981 - val_loss: 0.4701 - val_acc: 0.9519\n",
      "Epoch 8/10\n",
      "27455/27455 [==============================] - 31s 1ms/sample - loss: 0.0047 - acc: 0.9983 - val_loss: 0.3989 - val_acc: 0.9463\n",
      "Epoch 9/10\n",
      "27455/27455 [==============================] - 31s 1ms/sample - loss: 0.0059 - acc: 0.9983 - val_loss: 0.4126 - val_acc: 0.9480\n",
      "Epoch 10/10\n",
      "27455/27455 [==============================] - 31s 1ms/sample - loss: 0.0053 - acc: 0.9981 - val_loss: 0.4711 - val_acc: 0.9359\n"
     ]
    }
   ],
   "source": [
    "model.compile(optimizer='adam', loss='categorical_crossentropy', metrics=['acc'])\n",
    "     \n",
    "\n",
    "history = model.fit(X_train, y_train, epochs=10, validation_data=(X_test, y_test))"
   ]
  },
  {
   "cell_type": "code",
   "execution_count": 27,
   "metadata": {},
   "outputs": [
    {
     "data": {
      "image/png": "[encoded data removed]",
      "text/plain": [
       "<Figure size 432x288 with 1 Axes>"
      ]
     },
     "metadata": {
      "needs_background": "light"
     },
     "output_type": "display_data"
    }
   ],
   "source": [
    "plt.plot(history.history['acc'], label='Train Accuracy')\n",
    "plt.plot(history.history['val_acc'], label='Validation Accuracy')\n",
    "plt.title(\"Model Accuracy\")\n",
    "plt.xlabel(\"Epochs\")\n",
    "plt.ylabel(\"Accuracy\")\n",
    "plt.legend()\n",
    "plt.show()"
   ]
  }
 ],
 "metadata": {
  "kernelspec": {
   "display_name": "Python 3",
   "language": "python",
   "name": "python3"
  },
  "language_info": {
   "codemirror_mode": {
    "name": "ipython",
    "version": 3
   },
   "file_extension": ".py",
   "mimetype": "text/x-python",
   "name": "python",
   "nbconvert_exporter": "python",
   "pygments_lexer": "ipython3",
   "version": "3.7.1"
  }
 },
 "nbformat": 4,
 "nbformat_minor": 2
}
